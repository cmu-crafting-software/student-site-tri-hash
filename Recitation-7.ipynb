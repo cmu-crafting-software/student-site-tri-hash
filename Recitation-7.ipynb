{
 "cells": [
  {
   "cell_type": "code",
   "execution_count": 1,
   "id": "50abda1a-fd8d-4f28-9bf0-dbe592558422",
   "metadata": {},
   "outputs": [
    {
     "ename": "NameError",
     "evalue": "name 'chart' is not defined",
     "output_type": "error",
     "traceback": [
      "\u001b[0;31m---------------------------------------------------------------------------\u001b[0m",
      "\u001b[0;31mNameError\u001b[0m                                 Traceback (most recent call last)",
      "\u001b[0;32m<ipython-input-1-4aa3d5054f0e>\u001b[0m in \u001b[0;36m<module>\u001b[0;34m\u001b[0m\n\u001b[0;32m----> 1\u001b[0;31m \u001b[0mchart\u001b[0m\u001b[0;34m.\u001b[0m\u001b[0msave\u001b[0m\u001b[0;34m(\u001b[0m\u001b[0;34m'chart.html'\u001b[0m\u001b[0;34m)\u001b[0m\u001b[0;34m\u001b[0m\u001b[0;34m\u001b[0m\u001b[0m\n\u001b[0m",
      "\u001b[0;31mNameError\u001b[0m: name 'chart' is not defined"
     ]
    }
   ],
   "source": []
  },
  {
   "cell_type": "code",
   "execution_count": 3,
   "id": "c9d1466d-6494-46ee-b026-9ea0c20372ae",
   "metadata": {},
   "outputs": [],
   "source": [
    "import altair as alt\n",
    "from vega_datasets import data\n",
    "\n",
    "source = data.iris()\n",
    "\n",
    "chart = alt.Chart(source).transform_window(\n",
    "    index='count()'\n",
    ").transform_fold(\n",
    "    ['petalLength', 'petalWidth', 'sepalLength', 'sepalWidth']\n",
    ").mark_line().encode(\n",
    "    x='key:N',\n",
    "    y='value:Q',\n",
    "    color='species:N',\n",
    "    detail='index:N',\n",
    "    opacity=alt.value(0.5)\n",
    ").properties(width=500)\n",
    "\n",
    "chart.save('chart.html')"
   ]
  },
  {
   "cell_type": "code",
   "execution_count": null,
   "id": "abea1c64-c8ae-494e-82c2-03ad3e3a9af4",
   "metadata": {},
   "outputs": [],
   "source": []
  }
 ],
 "metadata": {
  "kernelspec": {
   "display_name": "Python 3",
   "language": "python",
   "name": "python3"
  },
  "language_info": {
   "codemirror_mode": {
    "name": "ipython",
    "version": 3
   },
   "file_extension": ".py",
   "mimetype": "text/x-python",
   "name": "python",
   "nbconvert_exporter": "python",
   "pygments_lexer": "ipython3",
   "version": "3.9.9"
  }
 },
 "nbformat": 4,
 "nbformat_minor": 5
}
